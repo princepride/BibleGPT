{
 "cells": [
  {
   "cell_type": "code",
   "execution_count": 6,
   "metadata": {},
   "outputs": [
    {
     "name": "stdout",
     "output_type": "stream",
     "text": [
      "Bible text has been parsed and saved to bible.json.\n"
     ]
    }
   ],
   "source": [
    "def parse_bible(bible_text_path):\n",
    "    # 用于存储解析后的圣经数据\n",
    "    bible_data = {}\n",
    "    current_book = None\n",
    "    current_chapter = 1\n",
    "    chapter_content = []\n",
    "\n",
    "    # 读取并解析圣经文本\n",
    "    with open(bible_text_path, 'r', encoding='utf-8') as file:\n",
    "        for line in file:\n",
    "            # 去除行首尾的空白字符\n",
    "            line = line.strip()\n",
    "\n",
    "            # 检测新的书籍开始\n",
    "            if re.match(r'^\\S+$', line):\n",
    "                # 保存当前书籍的数据\n",
    "                if current_book:\n",
    "                    if current_chapter not in bible_data[current_book]:\n",
    "                        bible_data[current_book][current_chapter] = '\\n'.join(chapter_content)\n",
    "                    chapter_content = []\n",
    "                current_book = line\n",
    "                bible_data[current_book] = {}\n",
    "                current_chapter = 1\n",
    "            # 检测新的章节开始\n",
    "            elif line.startswith('第') and '章' in line:\n",
    "                # 保存当前章节的数据\n",
    "                if chapter_content:\n",
    "                    bible_data[current_book][current_chapter] = '\\n'.join(chapter_content)\n",
    "                    chapter_content = []\n",
    "                current_chapter = int(re.search(r'\\d+', line).group())\n",
    "            else:\n",
    "                # 添加行到当前章节内容\n",
    "                chapter_content.append(line)\n",
    "\n",
    "        if current_book and chapter_content:\n",
    "            bible_data[current_book][current_chapter] = '\\n'.join(chapter_content)\n",
    "\n",
    "    return bible_data\n",
    "\n",
    "import re\n",
    "import json\n",
    "\n",
    "# 原始圣经文本文件路径（GB2312编码）\n",
    "original_bible_text_path = 'text.txt'\n",
    "# 转换后的UTF-8编码文件路径\n",
    "utf8_bible_text_path = 'text_utf8.txt'\n",
    "# 输出JSON文件路径\n",
    "output_json_path = 'bible.json'\n",
    "\n",
    "# 将GB2312编码的文件转换为UTF-8编码\n",
    "def convert_encoding(original_path, utf8_path):\n",
    "    with open(original_path, 'r', encoding='gb2312', errors='replace') as original_file:\n",
    "        with open(utf8_path, 'w', encoding='utf-8') as utf8_file:\n",
    "            for line in original_file:\n",
    "                utf8_file.write(line)\n",
    "\n",
    "convert_encoding(original_bible_text_path, utf8_bible_text_path)\n",
    "\n",
    "bible_data = parse_bible(utf8_bible_text_path)\n",
    "with open(output_json_path, 'w', encoding='utf-8') as json_file:\n",
    "    json.dump(bible_data, json_file, ensure_ascii=False, indent=4)\n",
    "\n",
    "print(f'Bible text has been parsed and saved to {output_json_path}.')\n"
   ]
  },
  {
   "cell_type": "code",
   "execution_count": 7,
   "metadata": {},
   "outputs": [],
   "source": [
    "str1 = \"\"\n",
    "with open('text_utf8.txt', 'r', encoding='utf-8') as file:\n",
    "    for line in file:\n",
    "        str1 += line"
   ]
  },
  {
   "cell_type": "code",
   "execution_count": 11,
   "metadata": {},
   "outputs": [],
   "source": [
    "chapters = str1.split(\"@@@@@\")"
   ]
  },
  {
   "cell_type": "code",
   "execution_count": 10,
   "metadata": {},
   "outputs": [
    {
     "data": {
      "text/plain": [
       "[61458,\n",
       " 49827,\n",
       " 34870,\n",
       " 48972,\n",
       " 43408,\n",
       " 30200,\n",
       " 29834,\n",
       " 3999,\n",
       " 39824,\n",
       " 33323,\n",
       " 37870,\n",
       " 36965,\n",
       " 36460,\n",
       " 41242,\n",
       " 12148,\n",
       " 17698,\n",
       " 8205,\n",
       " 29035,\n",
       " 79244,\n",
       " 24362,\n",
       " 8420,\n",
       " 4622,\n",
       " 60565,\n",
       " 70108,\n",
       " 5802,\n",
       " 59023,\n",
       " 18068,\n",
       " 9033,\n",
       " 3281,\n",
       " 6688,\n",
       " 979,\n",
       " 2084,\n",
       " 5253,\n",
       " 2110,\n",
       " 2253,\n",
       " 2615,\n",
       " 1788,\n",
       " 10320,\n",
       " 3005,\n",
       " 39657,\n",
       " 26087,\n",
       " 41509,\n",
       " 32595,\n",
       " 37919,\n",
       " 16468,\n",
       " 16662,\n",
       " 10610,\n",
       " 5562,\n",
       " 5170,\n",
       " 3908,\n",
       " 3683,\n",
       " 3421,\n",
       " 1851,\n",
       " 4085,\n",
       " 2972,\n",
       " 1697,\n",
       " 844,\n",
       " 12347,\n",
       " 4087,\n",
       " 4203,\n",
       " 2751,\n",
       " 4234,\n",
       " 510,\n",
       " 547,\n",
       " 1137,\n",
       " 18224,\n",
       " 4831]"
      ]
     },
     "execution_count": 10,
     "metadata": {},
     "output_type": "execute_result"
    }
   ],
   "source": []
  }
 ],
 "metadata": {
  "kernelspec": {
   "display_name": "base",
   "language": "python",
   "name": "python3"
  },
  "language_info": {
   "codemirror_mode": {
    "name": "ipython",
    "version": 3
   },
   "file_extension": ".py",
   "mimetype": "text/x-python",
   "name": "python",
   "nbconvert_exporter": "python",
   "pygments_lexer": "ipython3",
   "version": "3.11.7"
  }
 },
 "nbformat": 4,
 "nbformat_minor": 2
}
