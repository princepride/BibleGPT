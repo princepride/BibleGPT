{
 "cells": [
  {
   "cell_type": "code",
   "execution_count": 1,
   "metadata": {},
   "outputs": [
    {
     "name": "stderr",
     "output_type": "stream",
     "text": [
      "2024-03-21 15:37:43,047 - modelscope - INFO - PyTorch version 2.1.2 Found.\n",
      "2024-03-21 15:37:43,049 - modelscope - INFO - TensorFlow version 2.15.0 Found.\n",
      "2024-03-21 15:37:43,049 - modelscope - INFO - Loading ast index from /Users/zhipengwang/.cache/modelscope/ast_indexer\n",
      "2024-03-21 15:37:43,050 - modelscope - INFO - No valid ast index found from /Users/zhipengwang/.cache/modelscope/ast_indexer, generating ast index from prebuilt!\n",
      "2024-03-21 15:37:43,146 - modelscope - INFO - Loading done! Current index file version is 1.13.1, with md5 71de6632dc169b19010127b935d94428 and a total number of 972 components indexed\n"
     ]
    },
    {
     "ename": "",
     "evalue": "",
     "output_type": "error",
     "traceback": [
      "\u001b[1;31mThe Kernel crashed while executing code in the current cell or a previous cell. \n",
      "\u001b[1;31mPlease review the code in the cell(s) to identify a possible cause of the failure. \n",
      "\u001b[1;31mClick <a href='https://aka.ms/vscodeJupyterKernelCrash'>here</a> for more info. \n",
      "\u001b[1;31mView Jupyter <a href='command:jupyter.viewOutput'>log</a> for further details."
     ]
    }
   ],
   "source": [
    "from modelscope.outputs import OutputKeys\n",
    "from modelscope.pipelines import pipeline\n",
    "from modelscope.utils.constant import Tasks\n",
    "\n",
    "p = pipeline(\n",
    "    task = Tasks.document_segmentation,\n",
    "    model = 'iic/nlp_bert_document-segmentation_chinese-base'\n",
    ")\n",
    "\n",
    "print('-' * 100)\n",
    "\n",
    "result = p(documents='创造天地万物1起初，神创造天地。2地是空虚混沌；深渊上一片黑暗；神的灵运行在水面上。3神说：“要有光！”就有了光。4神看光是好的，他就把光暗分开了。5神称光为昼，称暗为夜。有晚上，有早晨；这是第一日。6神说：“众水之间要有穹苍，把水和水分开！”事就这样成了。7神造了穹苍，把穹苍以下的水和穹苍以上的水分开了。8神称穹苍为天。有晚上，有早晨；这是第二日。9神说：“天下的水要聚在一处，使旱地露出来！”事就这样成了。10神称旱地为地，称水的聚处为海。神看这是好的。11神说：“地上要长出青草、结种子的蔬菜和结果子的树木，各从其类，在地上的果子都包着核！”事就这样成了。12于是，地上长出了青草和结种子的蔬菜，各从其类；又长出结果子的树木，各从其类，果子都包着核。神看这是好的。13有晚上，有早晨；这是第三日。14神说：“在天上穹苍中，要有光体来分昼夜；这些光体要作为记号，定节令、日子和年岁；15它们要在天上穹苍中发光，照耀地上！”事就这样成了。16于是，神造了两个大光体，大的管昼，小的管夜；又造了星星。17神把这些光体安放在天上穹苍中，照耀地上，18管昼夜，分光暗。神看这是好的。19有晚上，有早晨；这是第四日。20神说：“水要滋长生物；地上和天空之中，要有雀鸟飞翔！”21于是，神创造了大鱼和在水中滋生各种能活动的生物，各从其类；又创造了各种有翅膀的飞鸟，各从其类。神看这是好的。22神就赐福给它们，说：“要繁殖增多，充满海洋；雀鸟也要在地上增多！”23有晚上，有早晨；这是第五日。24神说：“地上要生出活物来，各从其类；牲畜、昆虫和地上的野兽，各从其类！”事就这样成了。25于是，神造了地上的野兽，各从其类；牲畜，各从其类；地上的各种昆虫，各从其类。神看这是好的。创造人类26神说：“我们要照着我们的形象，按着我们的样式造人；使他们管理海里的鱼、空中的鸟、地上的牲畜，以及全地，和地上所有爬行的生物！”27于是，神照着自己的形象创造人；就是照着他的形象创造了人；他所创造的有男有女。28神就赐福给他们，对他们说：“要繁殖增多，充满这地，征服它；也要管理海里的鱼、空中的鸟和地上爬行的所有生物。”29神说：“看哪！我把全地上结种子的各样蔬菜，和一切果树上有种子的果子，都赐给你们作食物。30至于地上的各种野兽，空中的各种飞鸟，和地上爬行有生命的各种活物，我把一切青草蔬菜赐给它们作食物。”事就这样成了。31神看他所造的一切都很好。有晚上，有早晨；这是第六日。')\n",
    "\n",
    "print(result[OutputKeys.TEXT])"
   ]
  },
  {
   "cell_type": "code",
   "execution_count": null,
   "metadata": {},
   "outputs": [],
   "source": [
    "!pip install modelscope[nlp] -f https://modelscope.oss-cn-beijing.aliyuncs.com/releases/repo.html"
   ]
  },
  {
   "cell_type": "code",
   "execution_count": 1,
   "metadata": {},
   "outputs": [
    {
     "name": "stderr",
     "output_type": "stream",
     "text": [
      "2024-03-21 15:42:57,010 - modelscope - INFO - PyTorch version 2.1.2 Found.\n",
      "2024-03-21 15:42:57,012 - modelscope - INFO - TensorFlow version 2.15.0 Found.\n",
      "2024-03-21 15:42:57,012 - modelscope - INFO - Loading ast index from /Users/zhipengwang/.cache/modelscope/ast_indexer\n",
      "2024-03-21 15:42:57,099 - modelscope - INFO - Loading done! Current index file version is 1.13.1, with md5 71de6632dc169b19010127b935d94428 and a total number of 972 components indexed\n"
     ]
    },
    {
     "ename": "",
     "evalue": "",
     "output_type": "error",
     "traceback": [
      "\u001b[1;31mThe Kernel crashed while executing code in the current cell or a previous cell. \n",
      "\u001b[1;31mPlease review the code in the cell(s) to identify a possible cause of the failure. \n",
      "\u001b[1;31mClick <a href='https://aka.ms/vscodeJupyterKernelCrash'>here</a> for more info. \n",
      "\u001b[1;31mView Jupyter <a href='command:jupyter.viewOutput'>log</a> for further details."
     ]
    }
   ],
   "source": [
    "from modelscope.outputs import OutputKeys\n",
    "from modelscope.pipelines import pipeline\n",
    "from modelscope.utils.constant import Tasks\n",
    "\n",
    "p = pipeline(\n",
    "    task = Tasks.document_segmentation,\n",
    "    model = 'damo/nlp_bert_document-segmentation_english-base'\n",
    ")\n",
    "\n",
    "print('-' * 100)\n",
    "\n",
    "result = p(documents='We demonstrate the importance of bidirectional pre-training for language representations. Unlike Radford et al. (2018), which uses unidirectional language models for pre-training, BERT uses masked language models to enable pretrained deep bidirectional representations. This is also in contrast to Peters et al. (2018a), which uses a shallow concatenation of independently trained left-to-right and right-to-left LMs. • We show that pre-trained representations reduce the need for many heavily-engineered taskspecific architectures. BERT is the first finetuning based representation model that achieves state-of-the-art performance on a large suite of sentence-level and token-level tasks, outperforming many task-specific architectures. Today is a good day')\n",
    "\n",
    "print(result[OutputKeys.TEXT])"
   ]
  }
 ],
 "metadata": {
  "kernelspec": {
   "display_name": "base",
   "language": "python",
   "name": "python3"
  },
  "language_info": {
   "codemirror_mode": {
    "name": "ipython",
    "version": 3
   },
   "file_extension": ".py",
   "mimetype": "text/x-python",
   "name": "python",
   "nbconvert_exporter": "python",
   "pygments_lexer": "ipython3",
   "version": "3.11.4"
  }
 },
 "nbformat": 4,
 "nbformat_minor": 2
}
